{
 "cells": [
  {
   "cell_type": "code",
   "execution_count": 2,
   "metadata": {},
   "outputs": [
    {
     "name": "stdout",
     "output_type": "stream",
     "text": [
      "Initial distance: 83.80827379937683\n",
      "Final distance: 67.38574169355545\n"
     ]
    }
   ],
   "source": [
    "################################################\n",
    "################################################\n",
    "# Implementación de nuestro algoritmo genético para el problema del viajero\n",
    "################################################\n",
    "################################################\n",
    "\n",
    "\n",
    "\n",
    "import algoritmo_genetico as algG\n",
    "import pandas as pd\n",
    "import seaborn\n",
    "\n",
    "\n",
    "\n",
    "################################################\n",
    "# Preparamos todo y graficamos lo inicial\n",
    "\n",
    "\n",
    "ListaCiudades = pd.read_csv(\"Qatar.csv\")\n",
    "\n",
    "# Las convertimos a unidades adecuadas para poder graficar en el mapa\n",
    "ListaCiudades['Latitud'] = ListaCiudades['Latitud']/1000\n",
    "ListaCiudades['Longitud'] = ListaCiudades['Longitud']/1000\n",
    "\n",
    "\n",
    "\n",
    "\n",
    "################################################\n",
    "# Ahora sí usamos el algoritmo genético\n",
    "\n",
    "n_Ciudades = ListaCiudades.shape[0] # Calculamos cuántas ciudades tenemos\n",
    "\n",
    "ListaCoordenadas = []\n",
    "\n",
    "for i in range(0,n_Ciudades):\n",
    "    ListaCoordenadas.append(algG.City(x=ListaCiudades.Latitud[i], y=ListaCiudades.Longitud[i] ))\n",
    "\n",
    "\n",
    "\n",
    "Mejor_Ruta = algG.geneticAlgorithm(population=ListaCoordenadas, popSize=100, eliteSize=20, mutationRate=0.01, generations=500)\n"
   ]
  },
  {
   "cell_type": "code",
   "execution_count": 3,
   "metadata": {},
   "outputs": [
    {
     "name": "stdout",
     "output_type": "stream",
     "text": [
      "Initial distance: 85.6622680118137\n",
      "Final distance: 70.0116515639694\n"
     ]
    }
   ],
   "source": [
    "\n",
    "################################################\n",
    "################################################\n",
    "# Implementación de nuestro algoritmo genético para el problema del viajero\n",
    "################################################\n",
    "################################################\n",
    "\n",
    "\n",
    "\n",
    "import algoritmo_genetico as algG\n",
    "import pandas as pd\n",
    "import folium\n",
    "from folium import plugins\n",
    "import folium.plugins\n",
    "\n",
    "\n",
    "################################################\n",
    "# Preparamos todo y graficamos lo inicial\n",
    "\n",
    "\n",
    "ListaCiudades = pd.read_csv(\"Qatar.csv\")\n",
    "ListaCiudades.drop_duplicates(subset=None, keep='first', inplace=False)\n",
    "\n",
    "# Las convertimos a unidades adecuadas para poder graficar en el mapa\n",
    "ListaCiudades['Latitud'] = ListaCiudades['Latitud']/1000\n",
    "ListaCiudades['Longitud'] = ListaCiudades['Longitud']/1000\n",
    "\n",
    "\n",
    "\n",
    "################################################\n",
    "# Ahora sí usamos el algoritmo genético\n",
    "\n",
    "n_Ciudades = ListaCiudades.shape[0] # Calculamos cuántas ciudades tenemos\n",
    "\n",
    "ListaCoordenadas = []\n",
    "\n",
    "for i in range(0,n_Ciudades):\n",
    "    ListaCoordenadas.append(algG.City(x=ListaCiudades.Latitud[i], y=ListaCiudades.Longitud[i] ))\n",
    "\n",
    "\n",
    "\n",
    "Mejor_Ruta = algG.geneticAlgorithm(population=ListaCoordenadas, popSize=100, eliteSize=20, mutationRate=0.01, generations=500)\n",
    "\n"
   ]
  },
  {
   "cell_type": "code",
   "execution_count": 4,
   "metadata": {},
   "outputs": [
    {
     "ename": "NameError",
     "evalue": "name 'Quatar_mapOpt' is not defined",
     "output_type": "error",
     "traceback": [
      "\u001b[0;31m---------------------------------------------------------------------------\u001b[0m",
      "\u001b[0;31mNameError\u001b[0m                                 Traceback (most recent call last)",
      "\u001b[0;32m<ipython-input-4-01a6196def02>\u001b[0m in \u001b[0;36m<module>\u001b[0;34m\u001b[0m\n\u001b[1;32m     28\u001b[0m \u001b[0;31m# add incidents to map\u001b[0m\u001b[0;34m\u001b[0m\u001b[0;34m\u001b[0m\u001b[0;34m\u001b[0m\u001b[0m\n\u001b[1;32m     29\u001b[0m \u001b[0mQuatar_map\u001b[0m\u001b[0;34m.\u001b[0m\u001b[0madd_child\u001b[0m\u001b[0;34m(\u001b[0m\u001b[0mciudades\u001b[0m\u001b[0;34m)\u001b[0m\u001b[0;34m\u001b[0m\u001b[0;34m\u001b[0m\u001b[0m\n\u001b[0;32m---> 30\u001b[0;31m \u001b[0mQuatar_mapOpt\u001b[0m\u001b[0;34m.\u001b[0m\u001b[0msave\u001b[0m\u001b[0;34m(\u001b[0m\u001b[0;34m\"Quatar.html\"\u001b[0m\u001b[0;34m)\u001b[0m\u001b[0;34m\u001b[0m\u001b[0;34m\u001b[0m\u001b[0m\n\u001b[0m",
      "\u001b[0;31mNameError\u001b[0m: name 'Quatar_mapOpt' is not defined"
     ]
    }
   ],
   "source": [
    "# Para graficar usamos folium y lo guardamos en un documento html\n",
    "# si no lo hacemos así, no lo vamos a poder abrir después\n",
    "        \n",
    "latitude = 25.3\n",
    "longitude = 51.51\n",
    "\n",
    "Quatar_map = folium.Map(location=[latitude, longitude], zoom_start=10)\n",
    "# Quatar_map.save(\"Quatar.html\")\n",
    "\n",
    "# Le ponemos los puntitos de las ciudades consideradas\n",
    "\n",
    "# instantiate a feature group for the incidents in the dataframe\n",
    "ciudades = folium.map.FeatureGroup()\n",
    "\n",
    "\n",
    "for lat, lng, in zip(ListaCiudades.Latitud, ListaCiudades.Longitud):\n",
    "    ciudades.add_child(\n",
    "        folium.features.CircleMarker(\n",
    "            [lat, lng],\n",
    "            radius=5, # define how big you want the circle markers to be\n",
    "            color='yellow',\n",
    "            fill=True,\n",
    "            fill_color='blue',\n",
    "            fill_opacity=0.6\n",
    "        )\n",
    "    )\n",
    "\n",
    "# add incidents to map\n",
    "Quatar_map.add_child(ciudades)\n",
    "Quatar_mapOpt.save(\"Quatar.html\")"
   ]
  },
  {
   "cell_type": "code",
   "execution_count": 5,
   "metadata": {},
   "outputs": [
    {
     "data": {
      "text/plain": [
       "<matplotlib.axes._subplots.AxesSubplot at 0x7fda153bd090>"
      ]
     },
     "execution_count": 5,
     "metadata": {},
     "output_type": "execute_result"
    },
    {
     "data": {
      "image/png": "[encoded data removed]",
      "text/plain": [
       "<Figure size 432x288 with 1 Axes>"
      ]
     },
     "metadata": {
      "needs_background": "light"
     },
     "output_type": "display_data"
    }
   ],
   "source": [
    "import seaborn as sns\n",
    "\n",
    "# Agregamos la mejor ruta al mapa con líneas\n",
    "place_lat_opt = []\n",
    "place_lng_opt = []\n",
    "place_lat_init = []\n",
    "place_lng_init = []\n",
    "for i in range(0, 193):\n",
    "    place_lat_opt.append( Mejor_Ruta[i].x )\n",
    "    place_lng_opt.append( Mejor_Ruta[i].y )\n",
    "    place_lat_init.append( ListaCiudades.Latitud[i] )\n",
    "    place_lng_init.append( ListaCiudades.Longitud[i] )\n",
    "\n",
    "d_opt = {'Lat': place_lat_opt, 'Long': place_lng_opt}\n",
    "ruta_opt = pd.DataFrame(data=d_opt)\n",
    "\n",
    "ruta_opt_plot = sns.lineplot(data= ruta_opt, x=\"Lat\", y=\"Long\")\n",
    "\n",
    "ruta_opt_plot\n"
   ]
  },
  {
   "cell_type": "code",
   "execution_count": null,
   "metadata": {},
   "outputs": [],
   "source": [
    "d_init = {'Lat': place_lat_init, 'Long': place_lng_init}\n",
    "ruta_init = pd.DataFrame(data=d_init)\n",
    "ruta_init_plot = sns.lineplot(data= ruta_init, x=\"Lat\", y=\"Long\")\n",
    "ruta_init_plot"
   ]
  },
  {
   "cell_type": "code",
   "execution_count": null,
   "metadata": {},
   "outputs": [],
   "source": [
    "ruta_opt"
   ]
  },
  {
   "cell_type": "code",
   "execution_count": null,
   "metadata": {},
   "outputs": [],
   "source": [
    "ruta_init"
   ]
  },
  {
   "cell_type": "code",
   "execution_count": 14,
   "metadata": {},
   "outputs": [],
   "source": [
    "from shapely import geometry\n",
    "\n",
    "puntos = []\n",
    "\n",
    "for i in range(0, 193):\n",
    "    puntos.append([place_lat_opt[i], place_lng_opt[i]])\n",
    "\n",
    "poly = geometry.Polygon(puntos)"
   ]
  },
  {
   "cell_type": "code",
   "execution_count": 20,
   "metadata": {},
   "outputs": [
    {
     "data": {
      "image/svg+xml": [
       "<svg xmlns=\"http://www.w3.org/2000/svg\" xmlns:xlink=\"http://www.w3.org/1999/xlink\" width=\"100.0\" height=\"100.0\" viewBox=\"24.69225552 50.71058892 1.5141000600000005 0.9646555600000042\" preserveAspectRatio=\"xMinYMin meet\"><g transform=\"matrix(1,0,0,-1,0,102.3858334)\"><path fill-rule=\"evenodd\" fill=\"#ff3333\" stroke=\"#555555\" stroke-width=\"0.03028200120000001\" opacity=\"0.6\" d=\"M 25.3969444,51.4225 L 25.416944400000002,51.4038889 L 25.2908333,51.5283333 L 25.3069444,51.50777780000001 L 25.7511111,51.4491667 L 25.8566667,51.0833333 L 25.01,51.0394444 L 25.444444400000002,50.9583333 L 25.3119444,51.003055599999996 L 25.5008333,50.9805556 L 25.8575,51.2988889 L 26.1502778,51.1080556 L 26.1080556,51.2447222 L 26.0502778,51.2975 L 26.016666700000002,51.3333333 L 25.816666700000003,51.1333333 L 25.8677778,51.2055556 L 25.85,51.033333299999995 L 25.5675,50.9588889 L 25.316666700000003,50.7666667 L 25.9583333,51.0994444 L 26.0672222,51.2586111 L 25.6863889,51.468888899999996 L 25.1583333,51.163611100000004 L 25.3777778,51.294722199999995 L 25.55,51.4333333 L 25.8830556,51.1852778 L 25.2866667,51.533333299999995 L 25.4,51.1833333 L 25.313888900000002,50.8833333 L 25.1219444,51.2183333 L 24.7483333,50.84 L 25.3225,51.50777780000001 L 25.3205556,51.4955556 L 25.8575,51.4413889 L 25.538888900000003,51.408333299999995 L 25.5497222,51.4319444 L 25.483333299999998,51.3833333 L 25.8391667,51.4652778 L 25.067777799999998,51.0775 L 25.1033333,51.521666700000004 L 25.2525,51.5591667 L 25.1508333,51.5377778 L 25.1622222,51.220833299999995 L 24.8272222,51.3947222 L 25.210833299999997,51.3941667 L 25.2783333,51.5255556 L 25.7008333,51.584722199999995 L 25.2861111,51.5341667 L 25.3391667,51.173333299999996 L 26.0333333,51.1166667 L 25.5319444,51.3044444 L 25.4780556,51.3625 L 25.3588889,51.3336111 L 25.3636111,51.281111100000004 L 25.433333299999997,51.22 L 25.404722200000002,51.073055599999996 L 26.0747222,51.0836111 L 25.65,51.372222199999996 L 25.6102778,51.4752778 L 25.2233333,51.451666700000004 L 25.3419444,51.5075 L 25.4922222,51.400277800000005 L 25.2708333,51.5058333 L 25.666944400000002,51.1744444 L 25.1738889,51.2694444 L 25.3375,51.425 L 25.983333299999998,51.4 L 26.0216667,51.3669444 L 25.5855556,51.1513889 L 25.4805556,50.938888899999995 L 25.8266667,51.0438889 L 25.545833299999998,51.3875 L 25.7519444,50.9208333 L 26.05,51.25 L 26.0772222,51.2222222 L 26.0505556,51.1358333 L 25.3405556,51.2936111 L 26.0780556,51.3616667 L 26.0002778,51.2944444 L 25.8719444,51.3547222 L 25.256944400000002,51.398888899999996 L 25.030833299999998,51.275277800000005 L 25.7083333,51.591666700000005 L 25.2833333,51.533333299999995 L 25.3152778,51.4386111 L 25.4297222,50.7858333 L 25.5333333,50.9772222 L 25.5747222,51.4863889 L 25.9375,51.3133333 L 25.8808333,51.2213889 L 25.808333299999997,51.0605556 L 25.495,50.9652778 L 25.1,51.5166667 L 25.3744444,51.4366667 L 25.291944400000002,51.4244444 L 24.758888900000002,51.2119444 L 25.4697222,51.3975 L 25.7166667,51.05 L 25.2772222,51.547777800000006 L 25.5602778,51.1586111 L 25.9447222,51.4563889 L 25.8333333,51.0722222 L 25.7230556,51.0041667 L 26.0488889,51.0569444 L 25.9666667,51.283333299999995 L 25.7722222,51.4833333 L 25.8297222,51.245277800000004 L 25.168888900000002,51.086388899999996 L 25.6961111,51.2608333 L 25.234166700000003,51.2030556 L 25.2241667,51.1744444 L 25.266666700000002,51.4833333 L 25.2427778,51.4288889 L 25.253888900000003,51.5497222 L 25.2144444,51.3788889 L 25.416944400000002,51.4577778 L 26.133333299999997,51.3 L 26.055,51.3161111 L 25.8477778,51.2058333 L 25.283611099999998,51.5466667 L 26.123611099999998,51.2227778 L 25.2141667,50.8072222 L 26.0086111,51.0836111 L 25.9283333,51.3375 L 25.866666700000003,51.0666667 L 25.793333299999997,51.4094444 L 26.0333333,51.1666667 L 25.5105556,51.24222219999999 L 25.2758333,51.5336111 L 25.4194444,50.7936111 L 25.265833299999997,51.5452778 L 25.2708333,51.5230556 L 25.2355556,51.4955556 L 25.2847222,51.555277800000006 L 25.6458333,51.45 L 25.8880556,51.3863889 L 26.123611099999998,51.1691667 L 25.7791667,51.4497222 L 25.233333299999998,51.3333333 L 25.2355556,51.33 L 25.3266667,51.3502778 L 25.211388900000003,51.6191667 L 25.4,51.425 L 25.2925,51.5208333 L 25.3252778,51.47 L 25.4591667,51.3166667 L 24.9044444,51.175 L 26.0997222,51.1611111 L 26.033611099999998,51.2002778 L 25.4905556,51.373611100000005 L 25.6094444,51.092222199999995 L 25.9,51.0 L 26.133333299999997,51.216666700000005 L 26.0836111,51.147222199999995 L 25.2636111,51.516388899999995 L 25.2861111,51.5041667 L 25.281388900000003,51.5125 L 25.281111099999997,51.535 L 25.9516667,51.349722199999995 L 26.0766667,51.1669444 L 25.7347222,51.5475 L 25.758333299999997,51.3958333 L 25.440833299999998,51.378055599999996 L 25.2986111,51.0016667 L 25.243055599999998,51.4525 L 25.5669444,51.48472219999999 L 25.823611099999997,51.1525 L 25.3686111,51.226388899999996 L 25.2875,51.5377778 L 24.996111099999997,51.5488889 L 25.683888900000003,51.5058333 L 25.95,51.0666667 L 25.7652778,51.0197222 L 25.8725,51.2583333 L 25.2783333,51.5413889 L 25.2880556,51.5466667 L 25.266666700000002,50.9691667 L 25.300833299999997,51.3944444 L 25.4513889,50.925 L 25.270555599999998,51.532777800000005 L 25.7175,51.057777800000004 L 25.9577778,51.0752778 L 25.495,50.8466667 L 25.7758333,51.0230556 L 25.6225,51.4544444 L 25.4975,51.485277800000006 L 25.983611099999997,51.3280556 L 26.033611099999998,51.163888899999996 L 26.116666700000003,51.216666700000005 L 25.2791667,51.4455556 L 25.253888900000003,51.5352778 L 25.1677778,51.6069444 L 25.3969444,51.4225 z\" /></g></svg>"
      ],
      "text/plain": [
       "<shapely.geometry.polygon.Polygon at 0x7fda155f1f10>"
      ]
     },
     "execution_count": 20,
     "metadata": {},
     "output_type": "execute_result"
    }
   ],
   "source": [
    "poly"
   ]
  },
  {
   "cell_type": "code",
   "execution_count": 22,
   "metadata": {},
   "outputs": [
    {
     "data": {
      "image/svg+xml": [
       "<svg xmlns=\"http://www.w3.org/2000/svg\" xmlns:xlink=\"http://www.w3.org/1999/xlink\" width=\"100.0\" height=\"100.0\" viewBox=\"24.6929333 50.7112667 1.4957999999999956 0.9632999999999967\" preserveAspectRatio=\"xMinYMin meet\"><g transform=\"matrix(1,0,0,-1,0,102.3858334)\"><path fill-rule=\"evenodd\" fill=\"#ff3333\" stroke=\"#555555\" stroke-width=\"0.02991599999999991\" opacity=\"0.6\" d=\"M 24.7483333,50.84 L 24.758888900000002,51.2119444 L 24.8272222,51.3947222 L 24.9044444,51.175 L 24.996111099999997,51.5488889 L 25.01,51.0394444 L 25.030833299999998,51.275277800000005 L 25.067777799999998,51.0775 L 25.1,51.5166667 L 25.1033333,51.521666700000004 L 25.1219444,51.2183333 L 25.1508333,51.5377778 L 25.1583333,51.163611100000004 L 25.1622222,51.220833299999995 L 25.1677778,51.6069444 L 25.168888900000002,51.086388899999996 L 25.1738889,51.2694444 L 25.210833299999997,51.3941667 L 25.211388900000003,51.6191667 L 25.2141667,50.8072222 L 25.2144444,51.3788889 L 25.2233333,51.451666700000004 L 25.2241667,51.1744444 L 25.233333299999998,51.3333333 L 25.234166700000003,51.2030556 L 25.2355556,51.33 L 25.2355556,51.4955556 L 25.2427778,51.4288889 L 25.243055599999998,51.4525 L 25.2525,51.5591667 L 25.253888900000003,51.5352778 L 25.253888900000003,51.5497222 L 25.256944400000002,51.398888899999996 L 25.2636111,51.516388899999995 L 25.265833299999997,51.5452778 L 25.266666700000002,50.9691667 L 25.266666700000002,51.4833333 L 25.270555599999998,51.532777800000005 L 25.2708333,51.5058333 L 25.2708333,51.5230556 L 25.2758333,51.5336111 L 25.2772222,51.547777800000006 L 25.2783333,51.5255556 L 25.2783333,51.5413889 L 25.2791667,51.4455556 L 25.281111099999997,51.535 L 25.281388900000003,51.5125 L 25.2833333,51.533333299999995 L 25.283611099999998,51.5466667 L 25.2847222,51.555277800000006 L 25.2861111,51.5041667 L 25.2861111,51.5341667 L 25.2866667,51.533333299999995 L 25.2875,51.5377778 L 25.2880556,51.5466667 L 25.2908333,51.5283333 L 25.291944400000002,51.4244444 L 25.2925,51.5208333 L 25.2986111,51.0016667 L 25.300833299999997,51.3944444 L 25.3069444,51.50777780000001 L 25.3119444,51.003055599999996 L 25.313888900000002,50.8833333 L 25.3152778,51.4386111 L 25.316666700000003,50.7666667 L 25.3205556,51.4955556 L 25.3225,51.50777780000001 L 25.3252778,51.47 L 25.3266667,51.3502778 L 25.3375,51.425 L 25.3391667,51.173333299999996 L 25.3405556,51.2936111 L 25.3419444,51.5075 L 25.3588889,51.3336111 L 25.3636111,51.281111100000004 L 25.3686111,51.226388899999996 L 25.3744444,51.4366667 L 25.3777778,51.294722199999995 L 25.3969444,51.4225 L 25.4,51.1833333 L 25.4,51.425 L 25.404722200000002,51.073055599999996 L 25.416944400000002,51.4038889 L 25.416944400000002,51.4577778 L 25.4194444,50.7936111 L 25.4297222,50.7858333 L 25.433333299999997,51.22 L 25.440833299999998,51.378055599999996 L 25.444444400000002,50.9583333 L 25.4513889,50.925 L 25.4591667,51.3166667 L 25.4697222,51.3975 L 25.4780556,51.3625 L 25.4805556,50.938888899999995 L 25.483333299999998,51.3833333 L 25.4905556,51.373611100000005 L 25.4922222,51.400277800000005 L 25.495,50.8466667 L 25.495,50.9652778 L 25.4975,51.485277800000006 L 25.5008333,50.9805556 L 25.5105556,51.24222219999999 L 25.5319444,51.3044444 L 25.5333333,50.9772222 L 25.538888900000003,51.408333299999995 L 25.545833299999998,51.3875 L 25.5497222,51.4319444 L 25.55,51.4333333 L 25.5602778,51.1586111 L 25.5669444,51.48472219999999 L 25.5675,50.9588889 L 25.5747222,51.4863889 L 25.5855556,51.1513889 L 25.6094444,51.092222199999995 L 25.6102778,51.4752778 L 25.6225,51.4544444 L 25.6458333,51.45 L 25.65,51.372222199999996 L 25.666944400000002,51.1744444 L 25.683888900000003,51.5058333 L 25.6863889,51.468888899999996 L 25.6961111,51.2608333 L 25.7008333,51.584722199999995 L 25.7083333,51.591666700000005 L 25.7166667,51.05 L 25.7175,51.057777800000004 L 25.7230556,51.0041667 L 25.7347222,51.5475 L 25.7511111,51.4491667 L 25.7519444,50.9208333 L 25.758333299999997,51.3958333 L 25.7652778,51.0197222 L 25.7722222,51.4833333 L 25.7758333,51.0230556 L 25.7791667,51.4497222 L 25.793333299999997,51.4094444 L 25.808333299999997,51.0605556 L 25.816666700000003,51.1333333 L 25.823611099999997,51.1525 L 25.8266667,51.0438889 L 25.8297222,51.245277800000004 L 25.8333333,51.0722222 L 25.8391667,51.4652778 L 25.8477778,51.2058333 L 25.85,51.033333299999995 L 25.8566667,51.0833333 L 25.8575,51.2988889 L 25.8575,51.4413889 L 25.866666700000003,51.0666667 L 25.8677778,51.2055556 L 25.8719444,51.3547222 L 25.8725,51.2583333 L 25.8808333,51.2213889 L 25.8830556,51.1852778 L 25.8880556,51.3863889 L 25.9,51.0 L 25.9041667,51.201666700000004 L 25.9283333,51.3375 L 25.9375,51.3133333 L 25.9447222,51.4563889 L 25.95,51.0666667 L 25.9516667,51.349722199999995 L 25.9577778,51.0752778 L 25.9583333,51.0994444 L 25.9666667,51.283333299999995 L 25.983333299999998,51.4 L 25.983611099999997,51.3280556 L 26.0002778,51.2944444 L 26.0086111,51.0836111 L 26.016666700000002,51.3333333 L 26.0216667,51.3669444 L 26.0333333,51.1166667 L 26.0333333,51.1666667 L 26.033611099999998,51.163888899999996 L 26.033611099999998,51.2002778 L 26.0488889,51.0569444 L 26.05,51.25 L 26.0502778,51.2975 L 26.0505556,51.1358333 L 26.055,51.3161111 L 26.0672222,51.2586111 L 26.0747222,51.0836111 L 26.0766667,51.1669444 L 26.0772222,51.2222222 L 26.0780556,51.3616667 L 26.0836111,51.147222199999995 L 26.0997222,51.1611111 L 26.1080556,51.2447222 L 26.116666700000003,51.216666700000005 L 26.123611099999998,51.1691667 L 26.123611099999998,51.2227778 L 26.133333299999997,51.216666700000005 L 26.133333299999997,51.3 L 24.7483333,50.84 z\" /></g></svg>"
      ],
      "text/plain": [
       "<shapely.geometry.polygon.Polygon at 0x7fda155f1390>"
      ]
     },
     "execution_count": 22,
     "metadata": {},
     "output_type": "execute_result"
    }
   ],
   "source": [
    "\n",
    "puntos = []\n",
    "\n",
    "for i in range(0, 193):\n",
    "    puntos.append([place_lat_init[i], place_lng_init[i]])\n",
    "\n",
    "poly = geometry.Polygon(puntos)\n",
    "\n",
    "poly"
   ]
  },
  {
   "cell_type": "code",
   "execution_count": null,
   "metadata": {},
   "outputs": [],
   "source": []
  }
 ],
 "metadata": {
  "kernelspec": {
   "display_name": "Python 3",
   "language": "python",
   "name": "python3"
  },
  "language_info": {
   "codemirror_mode": {
    "name": "ipython",
    "version": 3
   },
   "file_extension": ".py",
   "mimetype": "text/x-python",
   "name": "python",
   "nbconvert_exporter": "python",
   "pygments_lexer": "ipython3",
   "version": "3.7.6"
  }
 },
 "nbformat": 4,
 "nbformat_minor": 4
}
